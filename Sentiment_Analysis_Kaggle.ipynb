{
 "cells": [
  {
   "cell_type": "markdown",
   "metadata": {},
   "source": [
    "# Sentiment Analysis (Kaggle)\n",
    "\n",
    "This challenge is a classification problem for text data that classify phrases (or sentense) on a scale of five values: negative, somewhat negative, neutral, somewhat positive, positive. Obstacles like sentence negation, sarcasm, terseness, language ambiguity, and many others make this task very challenging."
   ]
  },
  {
   "cell_type": "markdown",
   "metadata": {},
   "source": [
    "# Dataset\n",
    "\n",
    "The dataset is comprised of tab-separated files with phrases from the Rotten Tomatoes dataset. The train/test split has been preserved for the purposes of benchmarking, but the sentences have been shuffled from their original order. Each Sentence has been parsed into many phrases by the Stanford parser. Each phrase has a PhraseId. Each sentence has a SentenceId. Phrases that are repeated (such as short/common words) are only included once in the data.\n",
    "\n",
    "train.tsv contains the phrases and their associated sentiment labels. We have additionally provided a SentenceId so that you can track which phrases belong to a single sentence.\n",
    "test.tsv contains just phrases. You must assign a sentiment label to each phrase.\n",
    "The sentiment labels are:\n",
    "\n",
    "0 - negative\n",
    "1 - somewhat negative\n",
    "2 - neutral\n",
    "3 - somewhat positive\n",
    "4 - positive"
   ]
  },
  {
   "cell_type": "markdown",
   "metadata": {},
   "source": [
    "## 1. Data Preparation\n",
    "\n",
    "Import necessary libraries and load the data using pandas"
   ]
  },
  {
   "cell_type": "code",
   "execution_count": 158,
   "metadata": {},
   "outputs": [],
   "source": [
    "import numpy as np\n",
    "import pandas as pd\n",
    "import seaborn as sns\n",
    "import matplotlib.pyplot as plt\n",
    "\n",
    "from sklearn.feature_extraction.text import TfidfVectorizer\n",
    "from sklearn.model_selection import train_test_split\n",
    "from sklearn.svm import LinearSVC\n",
    "from sklearn.metrics import classification_report\n",
    "from sklearn.metrics import accuracy_score\n",
    "\n",
    "from keras.preprocessing.text import Tokenizer\n",
    "from keras.preprocessing.sequence import pad_sequences\n",
    "from keras.models import Sequential\n",
    "from keras.layers import Dense,GRU,LSTM,Embedding\n",
    "from keras.optimizers import Adam\n",
    "from keras.layers import SpatialDropout1D,Dropout,Bidirectional,Conv1D,GlobalMaxPooling1D,MaxPooling1D,Flatten\n",
    "from keras.callbacks import ModelCheckpoint, TensorBoard, Callback, EarlyStopping\n",
    "from keras.utils import to_categorical\n"
   ]
  },
  {
   "cell_type": "code",
   "execution_count": 159,
   "metadata": {},
   "outputs": [],
   "source": [
    "train_movie_data = pd.read_csv('Rotten_Tomatoes_Dataset/train.tsv', sep = '\\t')\n",
    "test_movie_data = pd.read_csv('Rotten_Tomatoes_Dataset/test.tsv', sep = '\\t')"
   ]
  },
  {
   "cell_type": "markdown",
   "metadata": {},
   "source": [
    "## 1.1 Data Exploration\n",
    "\n",
    "- Draw classes distribution: we can see that there are an imbalance between classes, most sentences are labeled with natural sentiment. Thus we will use matrics of f1-score, precision, recall instead of accuracy\n",
    "- Draw the most frequent words in negative sentences and positive sentences. We can see that, there are many punctuation and common words which are not usefull in sentiment analysis. We will remove them in the data preprocessing step.\n",
    "- We count the number of words in each sentence then draw the distribution of length of sentence."
   ]
  },
  {
   "cell_type": "code",
   "execution_count": 160,
   "metadata": {},
   "outputs": [
    {
     "data": {
      "text/plain": [
       "Index(['PhraseId', 'SentenceId', 'Phrase', 'Sentiment'], dtype='object')"
      ]
     },
     "execution_count": 160,
     "metadata": {},
     "output_type": "execute_result"
    }
   ],
   "source": [
    "train_movie_data.columns"
   ]
  },
  {
   "cell_type": "code",
   "execution_count": 161,
   "metadata": {},
   "outputs": [
    {
     "data": {
      "text/plain": [
       "PhraseId       int64\n",
       "SentenceId     int64\n",
       "Phrase        object\n",
       "Sentiment      int64\n",
       "dtype: object"
      ]
     },
     "execution_count": 161,
     "metadata": {},
     "output_type": "execute_result"
    }
   ],
   "source": [
    "train_movie_data.dtypes"
   ]
  },
  {
   "cell_type": "code",
   "execution_count": 162,
   "metadata": {},
   "outputs": [
    {
     "name": "stdout",
     "output_type": "stream",
     "text": [
      "(156060, 4) (66292, 3)\n"
     ]
    },
    {
     "data": {
      "text/html": [
       "<div>\n",
       "<style scoped>\n",
       "    .dataframe tbody tr th:only-of-type {\n",
       "        vertical-align: middle;\n",
       "    }\n",
       "\n",
       "    .dataframe tbody tr th {\n",
       "        vertical-align: top;\n",
       "    }\n",
       "\n",
       "    .dataframe thead th {\n",
       "        text-align: right;\n",
       "    }\n",
       "</style>\n",
       "<table border=\"1\" class=\"dataframe\">\n",
       "  <thead>\n",
       "    <tr style=\"text-align: right;\">\n",
       "      <th></th>\n",
       "      <th>PhraseId</th>\n",
       "      <th>SentenceId</th>\n",
       "      <th>Phrase</th>\n",
       "      <th>Sentiment</th>\n",
       "    </tr>\n",
       "  </thead>\n",
       "  <tbody>\n",
       "    <tr>\n",
       "      <th>0</th>\n",
       "      <td>1</td>\n",
       "      <td>1</td>\n",
       "      <td>A series of escapades demonstrating the adage ...</td>\n",
       "      <td>1</td>\n",
       "    </tr>\n",
       "    <tr>\n",
       "      <th>1</th>\n",
       "      <td>2</td>\n",
       "      <td>1</td>\n",
       "      <td>A series of escapades demonstrating the adage ...</td>\n",
       "      <td>2</td>\n",
       "    </tr>\n",
       "    <tr>\n",
       "      <th>2</th>\n",
       "      <td>3</td>\n",
       "      <td>1</td>\n",
       "      <td>A series</td>\n",
       "      <td>2</td>\n",
       "    </tr>\n",
       "    <tr>\n",
       "      <th>3</th>\n",
       "      <td>4</td>\n",
       "      <td>1</td>\n",
       "      <td>A</td>\n",
       "      <td>2</td>\n",
       "    </tr>\n",
       "    <tr>\n",
       "      <th>4</th>\n",
       "      <td>5</td>\n",
       "      <td>1</td>\n",
       "      <td>series</td>\n",
       "      <td>2</td>\n",
       "    </tr>\n",
       "    <tr>\n",
       "      <th>5</th>\n",
       "      <td>6</td>\n",
       "      <td>1</td>\n",
       "      <td>of escapades demonstrating the adage that what...</td>\n",
       "      <td>2</td>\n",
       "    </tr>\n",
       "    <tr>\n",
       "      <th>6</th>\n",
       "      <td>7</td>\n",
       "      <td>1</td>\n",
       "      <td>of</td>\n",
       "      <td>2</td>\n",
       "    </tr>\n",
       "    <tr>\n",
       "      <th>7</th>\n",
       "      <td>8</td>\n",
       "      <td>1</td>\n",
       "      <td>escapades demonstrating the adage that what is...</td>\n",
       "      <td>2</td>\n",
       "    </tr>\n",
       "    <tr>\n",
       "      <th>8</th>\n",
       "      <td>9</td>\n",
       "      <td>1</td>\n",
       "      <td>escapades</td>\n",
       "      <td>2</td>\n",
       "    </tr>\n",
       "    <tr>\n",
       "      <th>9</th>\n",
       "      <td>10</td>\n",
       "      <td>1</td>\n",
       "      <td>demonstrating the adage that what is good for ...</td>\n",
       "      <td>2</td>\n",
       "    </tr>\n",
       "  </tbody>\n",
       "</table>\n",
       "</div>"
      ],
      "text/plain": [
       "   PhraseId  SentenceId                                             Phrase  \\\n",
       "0         1           1  A series of escapades demonstrating the adage ...   \n",
       "1         2           1  A series of escapades demonstrating the adage ...   \n",
       "2         3           1                                           A series   \n",
       "3         4           1                                                  A   \n",
       "4         5           1                                             series   \n",
       "5         6           1  of escapades demonstrating the adage that what...   \n",
       "6         7           1                                                 of   \n",
       "7         8           1  escapades demonstrating the adage that what is...   \n",
       "8         9           1                                          escapades   \n",
       "9        10           1  demonstrating the adage that what is good for ...   \n",
       "\n",
       "   Sentiment  \n",
       "0          1  \n",
       "1          2  \n",
       "2          2  \n",
       "3          2  \n",
       "4          2  \n",
       "5          2  \n",
       "6          2  \n",
       "7          2  \n",
       "8          2  \n",
       "9          2  "
      ]
     },
     "execution_count": 162,
     "metadata": {},
     "output_type": "execute_result"
    }
   ],
   "source": [
    "print(train_movie_data.shape, test_movie_data.shape)\n",
    "train_movie_data.head(10)"
   ]
  },
  {
   "cell_type": "markdown",
   "metadata": {},
   "source": [
    "### Classes Distribution"
   ]
  },
  {
   "cell_type": "code",
   "execution_count": 163,
   "metadata": {},
   "outputs": [
    {
     "data": {
      "text/plain": [
       "Text(0, 0.5, 'Number of reviews')"
      ]
     },
     "execution_count": 163,
     "metadata": {},
     "output_type": "execute_result"
    },
    {
     "data": {
      "image/png": "[encoded data removed]",
      "text/plain": [
       "<Figure size 360x360 with 1 Axes>"
      ]
     },
     "metadata": {
      "needs_background": "light"
     },
     "output_type": "display_data"
    }
   ],
   "source": [
    "sentiment_count = train_movie_data['Sentiment'].value_counts()\n",
    "\n",
    "plt.figure(figsize=(5,5))\n",
    "plt.bar(sentiment_count.index, sentiment_count.values)\n",
    "plt.xlabel('Sentiment')\n",
    "plt.ylabel('Number of reviews')\n"
   ]
  },
  {
   "cell_type": "markdown",
   "metadata": {},
   "source": [
    "### Words Frequency"
   ]
  },
  {
   "cell_type": "code",
   "execution_count": 164,
   "metadata": {},
   "outputs": [],
   "source": [
    "#  For negative sentence\n",
    "def get_all_words(sentenses):\n",
    "    for sentense in sentenses:\n",
    "        for word in sentense.split():\n",
    "            yield word\n",
    "\n",
    "neg_sentenses = train_movie_data[train_movie_data['Sentiment'] == 0]['Phrase']\n",
    "all_neg_words = get_all_words(neg_sentenses)"
   ]
  },
  {
   "cell_type": "code",
   "execution_count": 165,
   "metadata": {},
   "outputs": [
    {
     "name": "stdout",
     "output_type": "stream",
     "text": [
      "[(',', 3722), ('the', 3070), ('a', 2572), ('and', 2507), ('of', 2236), ('.', 1973), ('to', 1880), ('is', 1363), (\"'s\", 1136), ('that', 1130), ('in', 998), ('it', 927), ('movie', 757), ('as', 738), ('this', 576), ('for', 509), ('its', 488), ('film', 477), ('with', 437), (\"n't\", 424)]\n"
     ]
    }
   ],
   "source": [
    "from nltk import FreqDist\n",
    "\n",
    "freq_dist_neg = FreqDist(all_neg_words)\n",
    "print(freq_dist_neg.most_common(20))"
   ]
  },
  {
   "cell_type": "code",
   "execution_count": 166,
   "metadata": {},
   "outputs": [
    {
     "name": "stdout",
     "output_type": "stream",
     "text": [
      "[(',', 4879), ('and', 3968), ('the', 3819), ('a', 3311), ('of', 3022), ('.', 2280), ('is', 1547), ('to', 1540), (\"'s\", 1329), ('that', 1248), ('in', 1045), ('film', 930), ('with', 912), ('it', 739), ('as', 713), ('an', 664), ('movie', 564), ('for', 553), ('A', 520), ('its', 516)]\n"
     ]
    }
   ],
   "source": [
    "#  For positive sentence\n",
    "\n",
    "pos_sentenses = train_movie_data[train_movie_data['Sentiment'] == 4]['Phrase']\n",
    "all_pos_words = get_all_words(pos_sentenses)\n",
    "\n",
    "freq_dist_pos = FreqDist(all_pos_words)\n",
    "print(freq_dist_pos.most_common(20))"
   ]
  },
  {
   "cell_type": "markdown",
   "metadata": {},
   "source": [
    "### Length of Sentences Distribution"
   ]
  },
  {
   "cell_type": "code",
   "execution_count": 167,
   "metadata": {},
   "outputs": [
    {
     "data": {
      "text/plain": [
       "<matplotlib.axes._subplots.AxesSubplot at 0x7fb6e2244908>"
      ]
     },
     "execution_count": 167,
     "metadata": {},
     "output_type": "execute_result"
    },
    {
     "data": {
      "image/png": "[encoded data removed]",
      "text/plain": [
       "<Figure size 432x288 with 1 Axes>"
      ]
     },
     "metadata": {
      "needs_background": "light"
     },
     "output_type": "display_data"
    }
   ],
   "source": [
    "train_movie_data['LengthSentence'] = train_movie_data['Phrase'].apply(lambda x: len(x.split()))\n",
    "train_movie_data['LengthSentence'].plot(kind = 'hist')"
   ]
  },
  {
   "cell_type": "markdown",
   "metadata": {},
   "source": [
    "## 1.2 Data Pre-Processing"
   ]
  },
  {
   "cell_type": "markdown",
   "metadata": {},
   "source": [
    "### Lower case\n",
    "We need to lower case all words in sentences that to avoid having many copies of the same words."
   ]
  },
  {
   "cell_type": "code",
   "execution_count": 168,
   "metadata": {},
   "outputs": [],
   "source": [
    "train_movie_data['Phrase'] = train_movie_data['Phrase'].apply(lambda x: \" \".join(w.lower() for w in x.split()))"
   ]
  },
  {
   "cell_type": "markdown",
   "metadata": {},
   "source": [
    "### Removing Puntuation\n",
    "Punctuations are useless in sentiment analysis, therefore we should remove them"
   ]
  },
  {
   "cell_type": "code",
   "execution_count": 169,
   "metadata": {},
   "outputs": [],
   "source": [
    "train_movie_data['Phrase'] = train_movie_data['Phrase'].str.replace('[^\\w\\s]','')"
   ]
  },
  {
   "cell_type": "markdown",
   "metadata": {},
   "source": [
    "### Removing Stop Words\n",
    "Stop words are commonly occurring words that should be removed in this context because they are also useless in sentiment alanysis"
   ]
  },
  {
   "cell_type": "code",
   "execution_count": 170,
   "metadata": {},
   "outputs": [],
   "source": [
    "from nltk.corpus import stopwords\n",
    "\n",
    "SW = stopwords.words('english')\n",
    "train_movie_data['Phrase'] = train_movie_data['Phrase'].apply(lambda x: \" \".join(w for w in x.split() if w not in SW))"
   ]
  },
  {
   "cell_type": "markdown",
   "metadata": {},
   "source": [
    "### Lemmatization\n",
    "we dont want a word can be in different forms, for example (go, goes, went, gone). It can make the vocabulary and vectorizer bigger, but dont have any extra meaning in sentiment analysis.\n",
    "\n",
    "Lemmatization is a method that converts the word into its root word."
   ]
  },
  {
   "cell_type": "code",
   "execution_count": 171,
   "metadata": {},
   "outputs": [],
   "source": [
    "from textblob import Word\n",
    "train_movie_data['Phrase'] = train_movie_data['Phrase'].apply(lambda x: \" \".join([Word(word).lemmatize() for word in x.split()]))"
   ]
  },
  {
   "cell_type": "markdown",
   "metadata": {},
   "source": [
    "### Words frequency\n",
    "After counting the most frequent words in negative sentences and positive sentences, we can see that there are some words like \"movie\" and \"film\" occurred mostly but dont have any effect in sentiment analysis.\n",
    "\n",
    "Therefore we should use Tfidf-vectorizer instead of CountVectorizer"
   ]
  },
  {
   "cell_type": "code",
   "execution_count": 172,
   "metadata": {},
   "outputs": [
    {
     "data": {
      "text/plain": [
       "movie        829\n",
       "film         542\n",
       "bad          434\n",
       "nt           424\n",
       "like         324\n",
       "one          288\n",
       "character    227\n",
       "time         183\n",
       "make         182\n",
       "comedy       174\n",
       "story        164\n",
       "even         164\n",
       "minute       161\n",
       "would        146\n",
       "worst        145\n",
       "feel         139\n",
       "plot         135\n",
       "dull         134\n",
       "rrb          131\n",
       "way          131\n",
       "dtype: int64"
      ]
     },
     "execution_count": 172,
     "metadata": {},
     "output_type": "execute_result"
    }
   ],
   "source": [
    "neg_freq = pd.Series(' '.join(train_movie_data[train_movie_data['Sentiment'] == 0]['Phrase']).split()).value_counts()[:20]\n",
    "neg_freq"
   ]
  },
  {
   "cell_type": "code",
   "execution_count": 173,
   "metadata": {},
   "outputs": [
    {
     "data": {
      "text/plain": [
       "film            1091\n",
       "movie            746\n",
       "one              507\n",
       "performance      472\n",
       "best             370\n",
       "funny            345\n",
       "good             294\n",
       "story            280\n",
       "work             274\n",
       "year             264\n",
       "comedy           257\n",
       "make             247\n",
       "great            220\n",
       "character        207\n",
       "love             202\n",
       "well             169\n",
       "entertaining     168\n",
       "fun              165\n",
       "time             163\n",
       "life             162\n",
       "dtype: int64"
      ]
     },
     "execution_count": 173,
     "metadata": {},
     "output_type": "execute_result"
    }
   ],
   "source": [
    "pos_freq = pd.Series(' '.join(train_movie_data[train_movie_data['Sentiment'] == 4]['Phrase']).split()).value_counts()[:20]\n",
    "pos_freq"
   ]
  },
  {
   "cell_type": "markdown",
   "metadata": {},
   "source": [
    "### Train Test Splitting\n"
   ]
  },
  {
   "cell_type": "code",
   "execution_count": 174,
   "metadata": {},
   "outputs": [],
   "source": [
    "y = train_movie_data['Sentiment']\n",
    "X_train , X_val , y_train , y_val = train_test_split(train_movie_data['Phrase'],y,test_size = 0.20)"
   ]
  },
  {
   "cell_type": "markdown",
   "metadata": {},
   "source": [
    "### Vectorize"
   ]
  },
  {
   "cell_type": "code",
   "execution_count": 175,
   "metadata": {},
   "outputs": [],
   "source": [
    "from nltk.tokenize import TweetTokenizer\n",
    "tokenizer = TweetTokenizer()\n",
    "\n",
    "vectorizer = TfidfVectorizer(ngram_range=(1, 3), tokenizer=tokenizer.tokenize)\n",
    "vectorizer.fit(X_train)\n",
    "train_vectorized = vectorizer.transform(X_train)\n",
    "val_vectorized = vectorizer.transform(X_val)"
   ]
  },
  {
   "cell_type": "markdown",
   "metadata": {},
   "source": [
    "# 2. Model Selection"
   ]
  },
  {
   "cell_type": "markdown",
   "metadata": {},
   "source": [
    "## SVM"
   ]
  },
  {
   "cell_type": "code",
   "execution_count": 176,
   "metadata": {},
   "outputs": [
    {
     "name": "stdout",
     "output_type": "stream",
     "text": [
      "              precision    recall  f1-score   support\n",
      "\n",
      "           0       0.40      0.49      0.44      1084\n",
      "           1       0.50      0.57      0.53      4917\n",
      "           2       0.81      0.73      0.77     17772\n",
      "           3       0.52      0.57      0.55      5938\n",
      "           4       0.43      0.54      0.48      1501\n",
      "\n",
      "    accuracy                           0.66     31212\n",
      "   macro avg       0.53      0.58      0.55     31212\n",
      "weighted avg       0.68      0.66      0.66     31212\n",
      "\n",
      "0.6550685633730616\n"
     ]
    }
   ],
   "source": [
    "svm = LinearSVC()\n",
    "svm.fit(train_vectorized,y_train)\n",
    "print(classification_report( svm.predict(val_vectorized) , y_val))\n",
    "print(accuracy_score( svm.predict(val_vectorized) , y_val ))"
   ]
  },
  {
   "cell_type": "markdown",
   "metadata": {},
   "source": [
    "## GRU"
   ]
  },
  {
   "cell_type": "code",
   "execution_count": 177,
   "metadata": {},
   "outputs": [],
   "source": [
    "max_features = 13000\n",
    "max_words = 50\n",
    "batch_size = 128\n",
    "epochs = 3\n",
    "num_classes=5"
   ]
  },
  {
   "cell_type": "code",
   "execution_count": 178,
   "metadata": {},
   "outputs": [],
   "source": [
    "tokenizer = Tokenizer(num_words=max_features)\n",
    "tokenizer.fit_on_texts(list(X_train))\n",
    "X_train = tokenizer.texts_to_sequences(X_train)\n",
    "X_val = tokenizer.texts_to_sequences(X_val)"
   ]
  },
  {
   "cell_type": "code",
   "execution_count": 179,
   "metadata": {},
   "outputs": [],
   "source": [
    "X_train =pad_sequences(X_train, maxlen=max_words)\n",
    "X_val = pad_sequences(X_val, maxlen=max_words)"
   ]
  },
  {
   "cell_type": "code",
   "execution_count": 180,
   "metadata": {},
   "outputs": [],
   "source": [
    "from keras.utils import to_categorical\n",
    "\n",
    "y_train_cat = to_categorical(y_train)\n",
    "y_val_cat = to_categorical(y_val)"
   ]
  },
  {
   "cell_type": "code",
   "execution_count": 181,
   "metadata": {},
   "outputs": [
    {
     "name": "stdout",
     "output_type": "stream",
     "text": [
      "Model: \"sequential_10\"\n",
      "_________________________________________________________________\n",
      "Layer (type)                 Output Shape              Param #   \n",
      "=================================================================\n",
      "embedding_10 (Embedding)     (None, None, 100)         1300000   \n",
      "_________________________________________________________________\n",
      "gru_13 (GRU)                 (None, None, 64)          31680     \n",
      "_________________________________________________________________\n",
      "gru_14 (GRU)                 (None, 32)                9312      \n",
      "_________________________________________________________________\n",
      "dense_10 (Dense)             (None, 5)                 165       \n",
      "=================================================================\n",
      "Total params: 1,341,157\n",
      "Trainable params: 1,341,157\n",
      "Non-trainable params: 0\n",
      "_________________________________________________________________\n"
     ]
    }
   ],
   "source": [
    "model_GRU=Sequential()\n",
    "model_GRU.add(Embedding(max_features,100,mask_zero=True))\n",
    "model_GRU.add(GRU(64,dropout=0.4,return_sequences=True))\n",
    "model_GRU.add(GRU(32,dropout=0.5,return_sequences=False))\n",
    "model_GRU.add(Dense(num_classes,activation='softmax'))\n",
    "model_GRU.compile(loss='categorical_crossentropy',optimizer=Adam(lr = 0.001),metrics=['accuracy'])\n",
    "model_GRU.summary()"
   ]
  },
  {
   "cell_type": "code",
   "execution_count": 182,
   "metadata": {},
   "outputs": [
    {
     "name": "stderr",
     "output_type": "stream",
     "text": [
      "/home/tuananh305/MALIS/Py3-Jupy/lib/python3.6/site-packages/tensorflow_core/python/framework/indexed_slices.py:424: UserWarning: Converting sparse IndexedSlices to a dense Tensor of unknown shape. This may consume a large amount of memory.\n",
      "  \"Converting sparse IndexedSlices to a dense Tensor of unknown shape. \"\n"
     ]
    },
    {
     "name": "stdout",
     "output_type": "stream",
     "text": [
      "Train on 124848 samples, validate on 31212 samples\n",
      "Epoch 1/3\n",
      "124848/124848 [==============================] - 142s 1ms/step - loss: 1.0532 - accuracy: 0.5885 - val_loss: 0.8960 - val_accuracy: 0.6449\n",
      "Epoch 2/3\n",
      "124848/124848 [==============================] - 150s 1ms/step - loss: 0.8549 - accuracy: 0.6579 - val_loss: 0.8674 - val_accuracy: 0.6571\n",
      "Epoch 3/3\n",
      "124848/124848 [==============================] - 145s 1ms/step - loss: 0.7961 - accuracy: 0.6799 - val_loss: 0.8520 - val_accuracy: 0.6605\n"
     ]
    }
   ],
   "source": [
    "history_GRU=model_GRU.fit(X_train, y_train_cat, validation_data=(X_val, y_val_cat),epochs=epochs, batch_size=batch_size, verbose=1)"
   ]
  },
  {
   "cell_type": "code",
   "execution_count": 183,
   "metadata": {},
   "outputs": [
    {
     "name": "stdout",
     "output_type": "stream",
     "text": [
      "31212/31212 [==============================] - 18s 587us/step\n",
      "              precision    recall  f1-score   support\n",
      "\n",
      "           0       0.29      0.55      0.38       706\n",
      "           1       0.58      0.53      0.56      6020\n",
      "           2       0.79      0.75      0.77     16604\n",
      "           3       0.61      0.56      0.58      7152\n",
      "           4       0.27      0.69      0.39       730\n",
      "\n",
      "    accuracy                           0.66     31212\n",
      "   macro avg       0.51      0.62      0.54     31212\n",
      "weighted avg       0.68      0.66      0.67     31212\n",
      "\n",
      "0.6605151864667436\n"
     ]
    }
   ],
   "source": [
    "y_val_pred = model_GRU.predict_classes(X_val, verbose=1)\n",
    "print(classification_report( y_val_pred , y_val))\n",
    "print(accuracy_score( y_val_pred , y_val ))"
   ]
  },
  {
   "cell_type": "code",
   "execution_count": 184,
   "metadata": {},
   "outputs": [
    {
     "name": "stdout",
     "output_type": "stream",
     "text": [
      "Model: \"sequential_11\"\n",
      "_________________________________________________________________\n",
      "Layer (type)                 Output Shape              Param #   \n",
      "=================================================================\n",
      "embedding_11 (Embedding)     (None, None, 100)         1300000   \n",
      "_________________________________________________________________\n",
      "lstm_7 (LSTM)                (None, None, 64)          42240     \n",
      "_________________________________________________________________\n",
      "lstm_8 (LSTM)                (None, 32)                12416     \n",
      "_________________________________________________________________\n",
      "dense_11 (Dense)             (None, 5)                 165       \n",
      "=================================================================\n",
      "Total params: 1,354,821\n",
      "Trainable params: 1,354,821\n",
      "Non-trainable params: 0\n",
      "_________________________________________________________________\n"
     ]
    }
   ],
   "source": [
    "model_LSTM=Sequential()\n",
    "model_LSTM.add(Embedding(max_features,100,mask_zero=True))\n",
    "model_LSTM.add(LSTM(64,dropout=0.4,return_sequences=True))\n",
    "model_LSTM.add(LSTM(32,dropout=0.5,return_sequences=False))\n",
    "model_LSTM.add(Dense(num_classes,activation='softmax'))\n",
    "model_LSTM.compile(loss='categorical_crossentropy',optimizer=Adam(lr = 0.001),metrics=['accuracy'])\n",
    "model_LSTM.summary()"
   ]
  },
  {
   "cell_type": "code",
   "execution_count": 185,
   "metadata": {},
   "outputs": [
    {
     "name": "stderr",
     "output_type": "stream",
     "text": [
      "/home/tuananh305/MALIS/Py3-Jupy/lib/python3.6/site-packages/tensorflow_core/python/framework/indexed_slices.py:424: UserWarning: Converting sparse IndexedSlices to a dense Tensor of unknown shape. This may consume a large amount of memory.\n",
      "  \"Converting sparse IndexedSlices to a dense Tensor of unknown shape. \"\n"
     ]
    },
    {
     "name": "stdout",
     "output_type": "stream",
     "text": [
      "Train on 124848 samples, validate on 31212 samples\n",
      "Epoch 1/3\n",
      "124848/124848 [==============================] - 153s 1ms/step - loss: 1.0733 - accuracy: 0.5862 - val_loss: 0.9080 - val_accuracy: 0.6416\n",
      "Epoch 2/3\n",
      "124848/124848 [==============================] - 153s 1ms/step - loss: 0.8589 - accuracy: 0.6563 - val_loss: 0.8703 - val_accuracy: 0.6544\n",
      "Epoch 3/3\n",
      "124848/124848 [==============================] - 157s 1ms/step - loss: 0.8070 - accuracy: 0.6747 - val_loss: 0.8617 - val_accuracy: 0.6607\n"
     ]
    }
   ],
   "source": [
    "history_LMST=model_LSTM.fit(X_train, y_train_cat, validation_data=(X_val, y_val_cat),epochs=epochs, batch_size=batch_size, verbose=1)"
   ]
  },
  {
   "cell_type": "code",
   "execution_count": 186,
   "metadata": {},
   "outputs": [
    {
     "name": "stdout",
     "output_type": "stream",
     "text": [
      "31212/31212 [==============================] - 19s 602us/step\n",
      "              precision    recall  f1-score   support\n",
      "\n",
      "           0       0.35      0.50      0.41       932\n",
      "           1       0.51      0.55      0.53      5168\n",
      "           2       0.83      0.73      0.78     18050\n",
      "           3       0.55      0.58      0.57      6255\n",
      "           4       0.28      0.65      0.39       807\n",
      "\n",
      "    accuracy                           0.66     31212\n",
      "   macro avg       0.50      0.60      0.54     31212\n",
      "weighted avg       0.69      0.66      0.67     31212\n",
      "\n",
      "0.6607074202229911\n"
     ]
    }
   ],
   "source": [
    "y_val_pred = model_LSTM.predict_classes(X_val, verbose=1)\n",
    "print(classification_report( y_val_pred , y_val))\n",
    "print(accuracy_score( y_val_pred , y_val ))"
   ]
  },
  {
   "cell_type": "code",
   "execution_count": null,
   "metadata": {},
   "outputs": [],
   "source": []
  }
 ],
 "metadata": {
  "kernelspec": {
   "display_name": "Python 3",
   "language": "python",
   "name": "python3"
  },
  "language_info": {
   "codemirror_mode": {
    "name": "ipython",
    "version": 3
   },
   "file_extension": ".py",
   "mimetype": "text/x-python",
   "name": "python",
   "nbconvert_exporter": "python",
   "pygments_lexer": "ipython3",
   "version": "3.6.8"
  }
 },
 "nbformat": 4,
 "nbformat_minor": 2
}
