{
 "cells": [
  {
   "cell_type": "markdown",
   "metadata": {},
   "source": [
    "# Sentiment Analysis (Kaggle)\n",
    "\n",
    "This challenge is a classification problem for text data that classify phrases (or sentense) on a scale of five values: negative, somewhat negative, neutral, somewhat positive, positive. Obstacles like sentence negation, sarcasm, terseness, language ambiguity, and many others make this task very challenging."
   ]
  },
  {
   "cell_type": "markdown",
   "metadata": {},
   "source": [
    "# Dataset\n",
    "\n",
    "The dataset is comprised of tab-separated files with phrases from the Rotten Tomatoes dataset. The train/test split has been preserved for the purposes of benchmarking, but the sentences have been shuffled from their original order. Each Sentence has been parsed into many phrases by the Stanford parser. Each phrase has a PhraseId. Each sentence has a SentenceId. Phrases that are repeated (such as short/common words) are only included once in the data.\n",
    "\n",
    "train.tsv contains the phrases and their associated sentiment labels. We have additionally provided a SentenceId so that you can track which phrases belong to a single sentence.\n",
    "test.tsv contains just phrases. You must assign a sentiment label to each phrase.\n",
    "The sentiment labels are:\n",
    "\n",
    "0 - negative\n",
    "1 - somewhat negative\n",
    "2 - neutral\n",
    "3 - somewhat positive\n",
    "4 - positive"
   ]
  },
  {
   "cell_type": "markdown",
   "metadata": {},
   "source": [
    "## 1. Data Preparation\n",
    "\n",
    "Import necessary libraries and load the data using pandas"
   ]
  },
  {
   "cell_type": "code",
   "execution_count": 224,
   "metadata": {},
   "outputs": [],
   "source": [
    "import numpy as np\n",
    "import pandas as pd\n",
    "import seaborn as sns\n",
    "import matplotlib.pyplot as plt\n",
    "\n",
    "from sklearn.feature_extraction.text import TfidfVectorizer\n",
    "from sklearn.model_selection import train_test_split\n",
    "from sklearn.svm import LinearSVC\n",
    "from sklearn.metrics import classification_report\n",
    "from sklearn.metrics import accuracy_score\n",
    "\n",
    "from keras.preprocessing.text import Tokenizer\n",
    "from keras.preprocessing.sequence import pad_sequences\n",
    "from keras.models import Sequential\n",
    "from keras.layers import Dense,GRU,LSTM,Embedding\n",
    "from keras.optimizers import Adam\n",
    "from keras.layers import SpatialDropout1D,Dropout,Bidirectional,Conv1D,GlobalMaxPooling1D,MaxPooling1D,Flatten\n",
    "from keras.callbacks import ModelCheckpoint, TensorBoard, Callback, EarlyStopping\n",
    "from keras.utils import to_categorical\n",
    "\n",
    "import warnings\n",
    "warnings.filterwarnings('ignore')"
   ]
  },
  {
   "cell_type": "code",
   "execution_count": 189,
   "metadata": {},
   "outputs": [],
   "source": [
    "train_movie_data = pd.read_csv('Rotten_Tomatoes_Dataset/train.tsv', sep = '\\t')\n",
    "test_movie_data = pd.read_csv('Rotten_Tomatoes_Dataset/test.tsv', sep = '\\t')"
   ]
  },
  {
   "cell_type": "markdown",
   "metadata": {},
   "source": [
    "## 1.1 Data Exploration\n",
    "\n",
    "- Draw classes distribution: we can see that there are an imbalance between classes, most sentences are labeled with natural sentiment. Thus we will use matrics of f1-score, precision, recall instead of accuracy\n",
    "- Draw the most frequent words in negative sentences and positive sentences. We can see that, there are many punctuation and common words which are not usefull in sentiment analysis. We will remove them in the data preprocessing step.\n",
    "- We count the number of words in each sentence then draw the distribution of length of sentence."
   ]
  },
  {
   "cell_type": "code",
   "execution_count": 190,
   "metadata": {},
   "outputs": [
    {
     "data": {
      "text/plain": [
       "Index(['PhraseId', 'SentenceId', 'Phrase', 'Sentiment'], dtype='object')"
      ]
     },
     "execution_count": 190,
     "metadata": {},
     "output_type": "execute_result"
    }
   ],
   "source": [
    "train_movie_data.columns"
   ]
  },
  {
   "cell_type": "code",
   "execution_count": 191,
   "metadata": {},
   "outputs": [
    {
     "data": {
      "text/plain": [
       "PhraseId       int64\n",
       "SentenceId     int64\n",
       "Phrase        object\n",
       "Sentiment      int64\n",
       "dtype: object"
      ]
     },
     "execution_count": 191,
     "metadata": {},
     "output_type": "execute_result"
    }
   ],
   "source": [
    "train_movie_data.dtypes"
   ]
  },
  {
   "cell_type": "code",
   "execution_count": 192,
   "metadata": {},
   "outputs": [
    {
     "name": "stdout",
     "output_type": "stream",
     "text": [
      "(156060, 4) (66292, 3)\n"
     ]
    },
    {
     "data": {
      "text/html": [
       "<div>\n",
       "<style scoped>\n",
       "    .dataframe tbody tr th:only-of-type {\n",
       "        vertical-align: middle;\n",
       "    }\n",
       "\n",
       "    .dataframe tbody tr th {\n",
       "        vertical-align: top;\n",
       "    }\n",
       "\n",
       "    .dataframe thead th {\n",
       "        text-align: right;\n",
       "    }\n",
       "</style>\n",
       "<table border=\"1\" class=\"dataframe\">\n",
       "  <thead>\n",
       "    <tr style=\"text-align: right;\">\n",
       "      <th></th>\n",
       "      <th>PhraseId</th>\n",
       "      <th>SentenceId</th>\n",
       "      <th>Phrase</th>\n",
       "      <th>Sentiment</th>\n",
       "    </tr>\n",
       "  </thead>\n",
       "  <tbody>\n",
       "    <tr>\n",
       "      <th>0</th>\n",
       "      <td>1</td>\n",
       "      <td>1</td>\n",
       "      <td>A series of escapades demonstrating the adage ...</td>\n",
       "      <td>1</td>\n",
       "    </tr>\n",
       "    <tr>\n",
       "      <th>1</th>\n",
       "      <td>2</td>\n",
       "      <td>1</td>\n",
       "      <td>A series of escapades demonstrating the adage ...</td>\n",
       "      <td>2</td>\n",
       "    </tr>\n",
       "    <tr>\n",
       "      <th>2</th>\n",
       "      <td>3</td>\n",
       "      <td>1</td>\n",
       "      <td>A series</td>\n",
       "      <td>2</td>\n",
       "    </tr>\n",
       "    <tr>\n",
       "      <th>3</th>\n",
       "      <td>4</td>\n",
       "      <td>1</td>\n",
       "      <td>A</td>\n",
       "      <td>2</td>\n",
       "    </tr>\n",
       "    <tr>\n",
       "      <th>4</th>\n",
       "      <td>5</td>\n",
       "      <td>1</td>\n",
       "      <td>series</td>\n",
       "      <td>2</td>\n",
       "    </tr>\n",
       "    <tr>\n",
       "      <th>5</th>\n",
       "      <td>6</td>\n",
       "      <td>1</td>\n",
       "      <td>of escapades demonstrating the adage that what...</td>\n",
       "      <td>2</td>\n",
       "    </tr>\n",
       "    <tr>\n",
       "      <th>6</th>\n",
       "      <td>7</td>\n",
       "      <td>1</td>\n",
       "      <td>of</td>\n",
       "      <td>2</td>\n",
       "    </tr>\n",
       "    <tr>\n",
       "      <th>7</th>\n",
       "      <td>8</td>\n",
       "      <td>1</td>\n",
       "      <td>escapades demonstrating the adage that what is...</td>\n",
       "      <td>2</td>\n",
       "    </tr>\n",
       "    <tr>\n",
       "      <th>8</th>\n",
       "      <td>9</td>\n",
       "      <td>1</td>\n",
       "      <td>escapades</td>\n",
       "      <td>2</td>\n",
       "    </tr>\n",
       "    <tr>\n",
       "      <th>9</th>\n",
       "      <td>10</td>\n",
       "      <td>1</td>\n",
       "      <td>demonstrating the adage that what is good for ...</td>\n",
       "      <td>2</td>\n",
       "    </tr>\n",
       "  </tbody>\n",
       "</table>\n",
       "</div>"
      ],
      "text/plain": [
       "   PhraseId  SentenceId                                             Phrase  \\\n",
       "0         1           1  A series of escapades demonstrating the adage ...   \n",
       "1         2           1  A series of escapades demonstrating the adage ...   \n",
       "2         3           1                                           A series   \n",
       "3         4           1                                                  A   \n",
       "4         5           1                                             series   \n",
       "5         6           1  of escapades demonstrating the adage that what...   \n",
       "6         7           1                                                 of   \n",
       "7         8           1  escapades demonstrating the adage that what is...   \n",
       "8         9           1                                          escapades   \n",
       "9        10           1  demonstrating the adage that what is good for ...   \n",
       "\n",
       "   Sentiment  \n",
       "0          1  \n",
       "1          2  \n",
       "2          2  \n",
       "3          2  \n",
       "4          2  \n",
       "5          2  \n",
       "6          2  \n",
       "7          2  \n",
       "8          2  \n",
       "9          2  "
      ]
     },
     "execution_count": 192,
     "metadata": {},
     "output_type": "execute_result"
    }
   ],
   "source": [
    "print(train_movie_data.shape, test_movie_data.shape)\n",
    "train_movie_data.head(10)"
   ]
  },
  {
   "cell_type": "markdown",
   "metadata": {},
   "source": [
    "### Classes Distribution"
   ]
  },
  {
   "cell_type": "code",
   "execution_count": 193,
   "metadata": {},
   "outputs": [
    {
     "data": {
      "text/plain": [
       "Text(0, 0.5, 'Number of reviews')"
      ]
     },
     "execution_count": 193,
     "metadata": {},
     "output_type": "execute_result"
    },
    {
     "data": {
      "image/png": "[encoded data removed]",
      "text/plain": [
       "<Figure size 360x360 with 1 Axes>"
      ]
     },
     "metadata": {
      "needs_background": "light"
     },
     "output_type": "display_data"
    }
   ],
   "source": [
    "sentiment_count = train_movie_data['Sentiment'].value_counts()\n",
    "\n",
    "plt.figure(figsize=(5,5))\n",
    "plt.bar(sentiment_count.index, sentiment_count.values)\n",
    "plt.xlabel('Sentiment')\n",
    "plt.ylabel('Number of reviews')\n"
   ]
  },
  {
   "cell_type": "markdown",
   "metadata": {},
   "source": [
    "### Words Frequency"
   ]
  },
  {
   "cell_type": "code",
   "execution_count": 194,
   "metadata": {},
   "outputs": [],
   "source": [
    "#  For negative sentence\n",
    "def get_all_words(sentenses):\n",
    "    for sentense in sentenses:\n",
    "        for word in sentense.split():\n",
    "            yield word\n",
    "\n",
    "neg_sentenses = train_movie_data[train_movie_data['Sentiment'] == 0]['Phrase']\n",
    "all_neg_words = get_all_words(neg_sentenses)"
   ]
  },
  {
   "cell_type": "code",
   "execution_count": 195,
   "metadata": {},
   "outputs": [
    {
     "name": "stdout",
     "output_type": "stream",
     "text": [
      "[(',', 3722), ('the', 3070), ('a', 2572), ('and', 2507), ('of', 2236), ('.', 1973), ('to', 1880), ('is', 1363), (\"'s\", 1136), ('that', 1130), ('in', 998), ('it', 927), ('movie', 757), ('as', 738), ('this', 576), ('for', 509), ('its', 488), ('film', 477), ('with', 437), (\"n't\", 424)]\n"
     ]
    }
   ],
   "source": [
    "from nltk import FreqDist\n",
    "\n",
    "freq_dist_neg = FreqDist(all_neg_words)\n",
    "print(freq_dist_neg.most_common(20))"
   ]
  },
  {
   "cell_type": "code",
   "execution_count": 196,
   "metadata": {},
   "outputs": [
    {
     "name": "stdout",
     "output_type": "stream",
     "text": [
      "[(',', 4879), ('and', 3968), ('the', 3819), ('a', 3311), ('of', 3022), ('.', 2280), ('is', 1547), ('to', 1540), (\"'s\", 1329), ('that', 1248), ('in', 1045), ('film', 930), ('with', 912), ('it', 739), ('as', 713), ('an', 664), ('movie', 564), ('for', 553), ('A', 520), ('its', 516)]\n"
     ]
    }
   ],
   "source": [
    "#  For positive sentence\n",
    "\n",
    "pos_sentenses = train_movie_data[train_movie_data['Sentiment'] == 4]['Phrase']\n",
    "all_pos_words = get_all_words(pos_sentenses)\n",
    "\n",
    "freq_dist_pos = FreqDist(all_pos_words)\n",
    "print(freq_dist_pos.most_common(20))"
   ]
  },
  {
   "cell_type": "markdown",
   "metadata": {},
   "source": [
    "### Length of Sentences Distribution"
   ]
  },
  {
   "cell_type": "code",
   "execution_count": 197,
   "metadata": {},
   "outputs": [
    {
     "data": {
      "text/plain": [
       "<matplotlib.axes._subplots.AxesSubplot at 0x7fb7103cdba8>"
      ]
     },
     "execution_count": 197,
     "metadata": {},
     "output_type": "execute_result"
    },
    {
     "data": {
      "image/png": "[encoded data removed]",
      "text/plain": [
       "<Figure size 432x288 with 1 Axes>"
      ]
     },
     "metadata": {
      "needs_background": "light"
     },
     "output_type": "display_data"
    }
   ],
   "source": [
    "train_movie_data['LengthSentence'] = train_movie_data['Phrase'].apply(lambda x: len(x.split()))\n",
    "train_movie_data['LengthSentence'].plot(kind = 'hist')"
   ]
  },
  {
   "cell_type": "markdown",
   "metadata": {},
   "source": [
    "## 1.2 Data Pre-Processing"
   ]
  },
  {
   "cell_type": "markdown",
   "metadata": {},
   "source": [
    "### Lower case\n",
    "We need to lower case all words in sentences that to avoid having many copies of the same words."
   ]
  },
  {
   "cell_type": "code",
   "execution_count": 198,
   "metadata": {},
   "outputs": [],
   "source": [
    "train_movie_data['Phrase'] = train_movie_data['Phrase'].apply(lambda x: \" \".join(w.lower() for w in x.split()))\n",
    "test_movie_data['Phrase'] = test_movie_data['Phrase'].apply(lambda x: \" \".join(w.lower() for w in x.split()))"
   ]
  },
  {
   "cell_type": "markdown",
   "metadata": {},
   "source": [
    "### Removing Punctuation\n",
    "Punctuations are useless in sentiment analysis, therefore we should remove them"
   ]
  },
  {
   "cell_type": "code",
   "execution_count": 199,
   "metadata": {},
   "outputs": [],
   "source": [
    "train_movie_data['Phrase'] = train_movie_data['Phrase'].str.replace('[^\\w\\s]','')\n",
    "test_movie_data['Phrase'] = test_movie_data['Phrase'].str.replace('[^\\w\\s]','')"
   ]
  },
  {
   "cell_type": "markdown",
   "metadata": {},
   "source": [
    "### Removing Stop Words\n",
    "Stop words are commonly occurring words that should be removed in this context because they are also useless in sentiment alanysis"
   ]
  },
  {
   "cell_type": "code",
   "execution_count": 200,
   "metadata": {},
   "outputs": [],
   "source": [
    "# from nltk.corpus import stopwords\n",
    "\n",
    "# SW = stopwords.words('english')\n",
    "# train_movie_data['Phrase'] = train_movie_data['Phrase'].apply(lambda x: \" \".join(w for w in x.split() if w not in SW))\n",
    "# test_movie_data['Phrase'] = test_movie_data['Phrase'].apply(lambda x: \" \".join(w for w in x.split() if w not in SW))"
   ]
  },
  {
   "cell_type": "markdown",
   "metadata": {},
   "source": [
    "### Lemmatization\n",
    "we dont want a word can be in different forms, for example (go, goes, went, gone). It can make the vocabulary and vectorizer bigger, but dont have any extra meaning in sentiment analysis.\n",
    "\n",
    "Lemmatization is a method that converts the word into its root word."
   ]
  },
  {
   "cell_type": "code",
   "execution_count": 201,
   "metadata": {},
   "outputs": [],
   "source": [
    "from textblob import Word\n",
    "train_movie_data['Phrase'] = train_movie_data['Phrase'].apply(lambda x: \" \".join([Word(word).lemmatize() for word in x.split()]))\n",
    "test_movie_data['Phrase'] = test_movie_data['Phrase'].apply(lambda x: \" \".join([Word(word).lemmatize() for word in x.split()]))"
   ]
  },
  {
   "cell_type": "markdown",
   "metadata": {},
   "source": [
    "### Words frequency\n",
    "After counting the most frequent words in negative sentences and positive sentences, we can see that there are some words like \"movie\" and \"film\" occurred mostly but dont have any effect in sentiment analysis.\n",
    "\n",
    "Therefore we should use Tfidf-vectorizer instead of CountVectorizer"
   ]
  },
  {
   "cell_type": "code",
   "execution_count": 202,
   "metadata": {},
   "outputs": [
    {
     "data": {
      "text/plain": [
       "a        3537\n",
       "the      3415\n",
       "and      2512\n",
       "of       2242\n",
       "to       1891\n",
       "it       1570\n",
       "is       1368\n",
       "that     1138\n",
       "s        1136\n",
       "in       1023\n",
       "movie     829\n",
       "this      652\n",
       "film      542\n",
       "for       519\n",
       "an        467\n",
       "with      452\n",
       "you       437\n",
       "bad       434\n",
       "nt        424\n",
       "or        378\n",
       "dtype: int64"
      ]
     },
     "execution_count": 202,
     "metadata": {},
     "output_type": "execute_result"
    }
   ],
   "source": [
    "neg_freq = pd.Series(' '.join(train_movie_data[train_movie_data['Sentiment'] == 0]['Phrase']).split()).value_counts()[:20]\n",
    "neg_freq"
   ]
  },
  {
   "cell_type": "code",
   "execution_count": 203,
   "metadata": {},
   "outputs": [
    {
     "data": {
      "text/plain": [
       "a              4563\n",
       "the            4192\n",
       "and            3970\n",
       "of             3024\n",
       "is             1550\n",
       "to             1545\n",
       "it             1385\n",
       "s              1329\n",
       "that           1260\n",
       "film           1091\n",
       "in             1058\n",
       "with            929\n",
       "an              746\n",
       "movie           746\n",
       "for             559\n",
       "this            538\n",
       "one             507\n",
       "performance     472\n",
       "most            440\n",
       "you             393\n",
       "dtype: int64"
      ]
     },
     "execution_count": 203,
     "metadata": {},
     "output_type": "execute_result"
    }
   ],
   "source": [
    "pos_freq = pd.Series(' '.join(train_movie_data[train_movie_data['Sentiment'] == 4]['Phrase']).split()).value_counts()[:20]\n",
    "pos_freq"
   ]
  },
  {
   "cell_type": "markdown",
   "metadata": {},
   "source": [
    "### Train Test Splitting\n"
   ]
  },
  {
   "cell_type": "code",
   "execution_count": 205,
   "metadata": {},
   "outputs": [],
   "source": [
    "y = train_movie_data['Sentiment']\n",
    "X_test = test_movie_data['Phrase']\n",
    "X_train , X_val , y_train , y_val = train_test_split(train_movie_data['Phrase'],y,test_size = 0.20)"
   ]
  },
  {
   "cell_type": "markdown",
   "metadata": {},
   "source": [
    "### Vectorize"
   ]
  },
  {
   "cell_type": "code",
   "execution_count": 207,
   "metadata": {},
   "outputs": [],
   "source": [
    "from nltk.tokenize import TweetTokenizer\n",
    "tokenizer = TweetTokenizer()\n",
    "\n",
    "vectorizer = TfidfVectorizer(ngram_range=(1, 3), tokenizer=tokenizer.tokenize)\n",
    "vectorizer.fit(X_train)\n",
    "train_vectorized = vectorizer.transform(X_train)\n",
    "val_vectorized = vectorizer.transform(X_val)\n",
    "test_vectorized = vectorizer.transform(X_test)"
   ]
  },
  {
   "cell_type": "markdown",
   "metadata": {},
   "source": [
    "# 2. Model Selection\n",
    "\n",
    "As we see above, our dataset is an imbalanced dataset. When working with an imbalanced dataset, the minority classes are typically of the most interest. This means that the model's ability in correctly predicting the label of probability for the minority classes is more important than the majority classes. We use both F1-score and accuracy as matrics for this problem\n",
    "\n",
    "We perform a baseline model by using linear svm model with \"TfidfVectorizer\". Then we try with deep network models (GRU and LSTM) and make comparison.\n"
   ]
  },
  {
   "cell_type": "markdown",
   "metadata": {},
   "source": [
    "## SVM"
   ]
  },
  {
   "cell_type": "code",
   "execution_count": 208,
   "metadata": {},
   "outputs": [
    {
     "name": "stdout",
     "output_type": "stream",
     "text": [
      "              precision    recall  f1-score   support\n",
      "\n",
      "           0       0.39      0.49      0.44      1079\n",
      "           1       0.51      0.56      0.53      5028\n",
      "           2       0.81      0.73      0.77     17729\n",
      "           3       0.53      0.57      0.55      5984\n",
      "           4       0.41      0.55      0.47      1392\n",
      "\n",
      "    accuracy                           0.66     31212\n",
      "   macro avg       0.53      0.58      0.55     31212\n",
      "weighted avg       0.68      0.66      0.66     31212\n",
      "\n",
      "0.6566705113417917\n"
     ]
    }
   ],
   "source": [
    "svm = LinearSVC()\n",
    "svm.fit(train_vectorized,y_train)\n",
    "print(classification_report( svm.predict(val_vectorized) , y_val))\n",
    "print(accuracy_score( svm.predict(val_vectorized) , y_val ))"
   ]
  },
  {
   "cell_type": "markdown",
   "metadata": {},
   "source": [
    "## GRU"
   ]
  },
  {
   "cell_type": "code",
   "execution_count": 215,
   "metadata": {},
   "outputs": [
    {
     "name": "stdout",
     "output_type": "stream",
     "text": [
      "15048\n"
     ]
    }
   ],
   "source": [
    "# get the unique words of train set as vocab\n",
    "\n",
    "unique_words = pd.Series(' '.join(train_movie_data['Phrase']).split()).value_counts()\n",
    "print(len(unique_words))\n"
   ]
  },
  {
   "cell_type": "code",
   "execution_count": 216,
   "metadata": {},
   "outputs": [],
   "source": [
    "max_features = len(unique_words)\n",
    "max_words = 50\n",
    "batch_size = 128\n",
    "epochs = 10\n",
    "num_classes=5"
   ]
  },
  {
   "cell_type": "code",
   "execution_count": 217,
   "metadata": {},
   "outputs": [],
   "source": [
    "tokenizer = Tokenizer(num_words=max_features)\n",
    "tokenizer.fit_on_texts(list(X_train))\n",
    "X_train = tokenizer.texts_to_sequences(X_train)\n",
    "X_val = tokenizer.texts_to_sequences(X_val)\n",
    "X_test = tokenizer.texts_to_sequences(X_test)"
   ]
  },
  {
   "cell_type": "code",
   "execution_count": 218,
   "metadata": {},
   "outputs": [],
   "source": [
    "X_train =pad_sequences(X_train, maxlen=max_words)\n",
    "X_val = pad_sequences(X_val, maxlen=max_words)\n",
    "X_test = pad_sequences(X_test, maxlen=max_words)"
   ]
  },
  {
   "cell_type": "code",
   "execution_count": 220,
   "metadata": {},
   "outputs": [],
   "source": [
    "from keras.utils import to_categorical\n",
    "\n",
    "y_train_cat = to_categorical(y_train)\n",
    "y_val_cat = to_categorical(y_val)"
   ]
  },
  {
   "cell_type": "code",
   "execution_count": 221,
   "metadata": {},
   "outputs": [],
   "source": [
    "# define an early stopping\n",
    "early_stopping = EarlyStopping(min_delta = 0.001, mode = 'max', monitor='val_acc', patience = 2)"
   ]
  },
  {
   "cell_type": "code",
   "execution_count": 233,
   "metadata": {},
   "outputs": [],
   "source": [
    "from tensorflow.keras import backend as K\n",
    "def f1(y_true, y_pred): #taken from old keras source code\n",
    "    true_positives = K.sum(K.round(K.clip(y_true * y_pred, 0, 1)))\n",
    "    possible_positives = K.sum(K.round(K.clip(y_true, 0, 1)))\n",
    "    predicted_positives = K.sum(K.round(K.clip(y_pred, 0, 1)))\n",
    "    precision = true_positives / (predicted_positives + K.epsilon())\n",
    "    recall = true_positives / (possible_positives + K.epsilon())\n",
    "    f1_val = 2*(precision*recall)/(precision+recall+K.epsilon())\n",
    "    return f1_val"
   ]
  },
  {
   "cell_type": "code",
   "execution_count": 225,
   "metadata": {},
   "outputs": [
    {
     "name": "stdout",
     "output_type": "stream",
     "text": [
      "Model: \"sequential_14\"\n",
      "_________________________________________________________________\n",
      "Layer (type)                 Output Shape              Param #   \n",
      "=================================================================\n",
      "embedding_14 (Embedding)     (None, None, 100)         1504800   \n",
      "_________________________________________________________________\n",
      "gru_19 (GRU)                 (None, None, 64)          31680     \n",
      "_________________________________________________________________\n",
      "gru_20 (GRU)                 (None, 32)                9312      \n",
      "_________________________________________________________________\n",
      "dense_15 (Dense)             (None, 100)               3300      \n",
      "_________________________________________________________________\n",
      "dropout_2 (Dropout)          (None, 100)               0         \n",
      "_________________________________________________________________\n",
      "dense_16 (Dense)             (None, 5)                 505       \n",
      "=================================================================\n",
      "Total params: 1,549,597\n",
      "Trainable params: 1,549,597\n",
      "Non-trainable params: 0\n",
      "_________________________________________________________________\n"
     ]
    }
   ],
   "source": [
    "model_GRU=Sequential()\n",
    "model_GRU.add(Embedding(max_features,100,mask_zero=True))\n",
    "model_GRU.add(GRU(64,dropout=0.5,return_sequences=True))\n",
    "model_GRU.add(GRU(32,dropout=0.5,return_sequences=False))\n",
    "model_GRU.add(Dense(100,activation='relu'))\n",
    "model_GRU.add(Dropout(0.5))\n",
    "model_GRU.add(Dense(num_classes,activation='softmax'))\n",
    "model_GRU.compile(loss='categorical_crossentropy',optimizer=Adam(lr = 0.001),metrics=[f1, 'accuracy'])\n",
    "model_GRU.summary()"
   ]
  },
  {
   "cell_type": "code",
   "execution_count": 226,
   "metadata": {},
   "outputs": [
    {
     "name": "stdout",
     "output_type": "stream",
     "text": [
      "Train on 124848 samples, validate on 31212 samples\n",
      "Epoch 1/10\n",
      "124848/124848 [==============================] - 152s 1ms/step - loss: 1.0691 - accuracy: 0.5745 - val_loss: 0.8761 - val_accuracy: 0.6379\n",
      "Epoch 2/10\n",
      "124848/124848 [==============================] - 147s 1ms/step - loss: 0.8472 - accuracy: 0.6518 - val_loss: 0.8306 - val_accuracy: 0.6585\n",
      "Epoch 3/10\n",
      "124848/124848 [==============================] - 149s 1ms/step - loss: 0.7881 - accuracy: 0.6773 - val_loss: 0.8241 - val_accuracy: 0.6639\n",
      "Epoch 4/10\n",
      "124848/124848 [==============================] - 152s 1ms/step - loss: 0.7498 - accuracy: 0.6910 - val_loss: 0.8201 - val_accuracy: 0.6639\n",
      "Epoch 5/10\n",
      "124848/124848 [==============================] - 143s 1ms/step - loss: 0.7221 - accuracy: 0.7016 - val_loss: 0.8171 - val_accuracy: 0.6698\n",
      "Epoch 6/10\n",
      "124848/124848 [==============================] - 136s 1ms/step - loss: 0.7008 - accuracy: 0.7094 - val_loss: 0.8261 - val_accuracy: 0.6659\n",
      "Epoch 7/10\n",
      "124848/124848 [==============================] - 136s 1ms/step - loss: 0.6816 - accuracy: 0.7161 - val_loss: 0.8400 - val_accuracy: 0.6708\n",
      "Epoch 8/10\n",
      "124848/124848 [==============================] - 133s 1ms/step - loss: 0.6669 - accuracy: 0.7236 - val_loss: 0.8425 - val_accuracy: 0.6687\n",
      "Epoch 9/10\n",
      "124848/124848 [==============================] - 133s 1ms/step - loss: 0.6519 - accuracy: 0.7275 - val_loss: 0.8623 - val_accuracy: 0.6678\n",
      "Epoch 10/10\n",
      "124848/124848 [==============================] - 137s 1ms/step - loss: 0.6379 - accuracy: 0.7340 - val_loss: 0.8672 - val_accuracy: 0.6665\n"
     ]
    }
   ],
   "source": [
    "history_GRU=model_GRU.fit(X_train, y_train_cat, validation_data=(X_val, y_val_cat),epochs=epochs, batch_size=batch_size, verbose=1, callbacks = [early_stopping])"
   ]
  },
  {
   "cell_type": "code",
   "execution_count": 227,
   "metadata": {},
   "outputs": [
    {
     "data": {
      "image/png": "[encoded data removed]",
      "text/plain": [
       "<Figure size 432x288 with 1 Axes>"
      ]
     },
     "metadata": {
      "needs_background": "light"
     },
     "output_type": "display_data"
    }
   ],
   "source": [
    "epoch_count = range(1, len(history_GRU.history['loss']) + 1)\n",
    "\n",
    "plt.plot(epoch_count, history_GRU.history['loss'], 'r--')\n",
    "plt.plot(epoch_count, history_GRU.history['val_loss'], 'b-')\n",
    "plt.legend(['Training Loss', 'Validation Loss'])\n",
    "plt.xlabel('Epoch')\n",
    "plt.ylabel('Loss')\n",
    "plt.show()"
   ]
  },
  {
   "cell_type": "code",
   "execution_count": 228,
   "metadata": {},
   "outputs": [
    {
     "name": "stdout",
     "output_type": "stream",
     "text": [
      "31212/31212 [==============================] - 15s 480us/step\n",
      "              precision    recall  f1-score   support\n",
      "\n",
      "           0       0.31      0.56      0.40       748\n",
      "           1       0.64      0.54      0.58      6556\n",
      "           2       0.76      0.77      0.77     15710\n",
      "           3       0.61      0.57      0.59      6871\n",
      "           4       0.42      0.60      0.50      1327\n",
      "\n",
      "    accuracy                           0.67     31212\n",
      "   macro avg       0.55      0.61      0.57     31212\n",
      "weighted avg       0.68      0.67      0.67     31212\n",
      "\n",
      "0.6665385108291683\n"
     ]
    }
   ],
   "source": [
    "y_val_pred = model_GRU.predict_classes(X_val, verbose=1)\n",
    "print(classification_report( y_val_pred , y_val))\n",
    "print(accuracy_score( y_val_pred , y_val ))"
   ]
  },
  {
   "cell_type": "markdown",
   "metadata": {},
   "source": [
    "## LSTM"
   ]
  },
  {
   "cell_type": "code",
   "execution_count": 234,
   "metadata": {},
   "outputs": [
    {
     "name": "stdout",
     "output_type": "stream",
     "text": [
      "Model: \"sequential_17\"\n",
      "_________________________________________________________________\n",
      "Layer (type)                 Output Shape              Param #   \n",
      "=================================================================\n",
      "embedding_17 (Embedding)     (None, None, 100)         1504800   \n",
      "_________________________________________________________________\n",
      "lstm_13 (LSTM)               (None, None, 64)          42240     \n",
      "_________________________________________________________________\n",
      "lstm_14 (LSTM)               (None, 32)                12416     \n",
      "_________________________________________________________________\n",
      "dense_21 (Dense)             (None, 100)               3300      \n",
      "_________________________________________________________________\n",
      "dropout_5 (Dropout)          (None, 100)               0         \n",
      "_________________________________________________________________\n",
      "dense_22 (Dense)             (None, 5)                 505       \n",
      "=================================================================\n",
      "Total params: 1,563,261\n",
      "Trainable params: 1,563,261\n",
      "Non-trainable params: 0\n",
      "_________________________________________________________________\n"
     ]
    }
   ],
   "source": [
    "model_LSTM=Sequential()\n",
    "model_LSTM.add(Embedding(max_features,100,mask_zero=True))\n",
    "model_LSTM.add(LSTM(64,dropout=0.5,return_sequences=True))\n",
    "model_LSTM.add(LSTM(32,dropout=0.5,return_sequences=False))\n",
    "model_LSTM.add(Dense(100,activation='relu'))\n",
    "model_LSTM.add(Dropout(0.5))\n",
    "model_LSTM.add(Dense(num_classes,activation='softmax'))\n",
    "model_LSTM.compile(loss='categorical_crossentropy',optimizer=Adam(lr = 0.001),metrics=[f1, 'accuracy'])\n",
    "model_LSTM.summary()"
   ]
  },
  {
   "cell_type": "code",
   "execution_count": 235,
   "metadata": {},
   "outputs": [
    {
     "name": "stdout",
     "output_type": "stream",
     "text": [
      "Train on 124848 samples, validate on 31212 samples\n",
      "Epoch 1/10\n",
      "124848/124848 [==============================] - 151s 1ms/step - loss: 1.0953 - f1: 0.4789 - accuracy: 0.5671 - val_loss: 0.8962 - val_f1: 0.5728 - val_accuracy: 0.6375\n",
      "Epoch 2/10\n",
      "124848/124848 [==============================] - 149s 1ms/step - loss: 0.8566 - f1: 0.6145 - accuracy: 0.6532 - val_loss: 0.8414 - val_f1: 0.6178 - val_accuracy: 0.6529\n",
      "Epoch 3/10\n",
      "124848/124848 [==============================] - 151s 1ms/step - loss: 0.7949 - f1: 0.6474 - accuracy: 0.6759 - val_loss: 0.8263 - val_f1: 0.6314 - val_accuracy: 0.6603\n",
      "Epoch 4/10\n",
      "124848/124848 [==============================] - 150s 1ms/step - loss: 0.7574 - f1: 0.6676 - accuracy: 0.6895 - val_loss: 0.8244 - val_f1: 0.6365 - val_accuracy: 0.6620\n",
      "Epoch 5/10\n",
      "124848/124848 [==============================] - 151s 1ms/step - loss: 0.7303 - f1: 0.6809 - accuracy: 0.6987 - val_loss: 0.8241 - val_f1: 0.6541 - val_accuracy: 0.6638\n",
      "Epoch 6/10\n",
      "124848/124848 [==============================] - 152s 1ms/step - loss: 0.7074 - f1: 0.6940 - accuracy: 0.7083 - val_loss: 0.8262 - val_f1: 0.6532 - val_accuracy: 0.6678\n",
      "Epoch 7/10\n",
      "124848/124848 [==============================] - 158s 1ms/step - loss: 0.6895 - f1: 0.7001 - accuracy: 0.7148 - val_loss: 0.8356 - val_f1: 0.6525 - val_accuracy: 0.6648\n",
      "Epoch 8/10\n",
      "124848/124848 [==============================] - 150s 1ms/step - loss: 0.6716 - f1: 0.7093 - accuracy: 0.7213 - val_loss: 0.8417 - val_f1: 0.6557 - val_accuracy: 0.6667\n",
      "Epoch 9/10\n",
      "124848/124848 [==============================] - 149s 1ms/step - loss: 0.6568 - f1: 0.7154 - accuracy: 0.7265 - val_loss: 0.8477 - val_f1: 0.6524 - val_accuracy: 0.6665\n",
      "Epoch 10/10\n",
      "124848/124848 [==============================] - 149s 1ms/step - loss: 0.6435 - f1: 0.7203 - accuracy: 0.7311 - val_loss: 0.8714 - val_f1: 0.6543 - val_accuracy: 0.6646\n"
     ]
    }
   ],
   "source": [
    "history_LSTM=model_LSTM.fit(X_train, y_train_cat, validation_data=(X_val, y_val_cat),epochs=epochs, batch_size=batch_size, verbose=1, callbacks = [early_stopping])"
   ]
  },
  {
   "cell_type": "code",
   "execution_count": 237,
   "metadata": {},
   "outputs": [
    {
     "data": {
      "image/png": "[encoded data removed]",
      "text/plain": [
       "<Figure size 432x288 with 1 Axes>"
      ]
     },
     "metadata": {
      "needs_background": "light"
     },
     "output_type": "display_data"
    }
   ],
   "source": [
    "epoch_count = range(1, len(history_LSTM.history['loss']) + 1)\n",
    "\n",
    "plt.plot(epoch_count, history_LSTM.history['loss'], 'r--')\n",
    "plt.plot(epoch_count, history_LSTM.history['val_loss'], 'b-')\n",
    "plt.legend(['Training Loss', 'Validation Loss'])\n",
    "plt.xlabel('Epoch')\n",
    "plt.ylabel('Loss')\n",
    "plt.show()"
   ]
  },
  {
   "cell_type": "code",
   "execution_count": 239,
   "metadata": {},
   "outputs": [
    {
     "name": "stdout",
     "output_type": "stream",
     "text": [
      "31212/31212 [==============================] - 14s 439us/step\n",
      "              precision    recall  f1-score   support\n",
      "\n",
      "           0       0.36      0.53      0.43       935\n",
      "           1       0.61      0.54      0.57      6265\n",
      "           2       0.75      0.77      0.76     15546\n",
      "           3       0.63      0.56      0.59      7209\n",
      "           4       0.41      0.61      0.49      1257\n",
      "\n",
      "    accuracy                           0.66     31212\n",
      "   macro avg       0.55      0.60      0.57     31212\n",
      "weighted avg       0.67      0.66      0.67     31212\n",
      "\n",
      "0.6645841343073177\n"
     ]
    }
   ],
   "source": [
    "y_val_pred = model_LSTM.predict_classes(X_val, verbose=1)\n",
    "print(classification_report( y_val_pred , y_val))\n",
    "print(accuracy_score( y_val_pred , y_val ))"
   ]
  },
  {
   "cell_type": "markdown",
   "metadata": {},
   "source": [
    "# 3. Evaluation\n",
    "\n",
    "The performance of GRU and LSTM are same, and better than linear SVM"
   ]
  },
  {
   "cell_type": "code",
   "execution_count": 242,
   "metadata": {},
   "outputs": [],
   "source": [
    "# get prediction on test set for submission\n",
    "y_pred=model_LSTM.predict_classes(X_test)\n",
    "\n",
    "sub_file = pd.read_csv('Rotten_Tomatoes_Dataset/sampleSubmission.csv',sep=',')\n",
    "sub_file.Sentiment=y_pred\n",
    "sub_file.to_csv('Submission.csv',index=False)"
   ]
  },
  {
   "cell_type": "code",
   "execution_count": null,
   "metadata": {},
   "outputs": [],
   "source": []
  }
 ],
 "metadata": {
  "kernelspec": {
   "display_name": "Python 3",
   "language": "python",
   "name": "python3"
  },
  "language_info": {
   "codemirror_mode": {
    "name": "ipython",
    "version": 3
   },
   "file_extension": ".py",
   "mimetype": "text/x-python",
   "name": "python",
   "nbconvert_exporter": "python",
   "pygments_lexer": "ipython3",
   "version": "3.6.8"
  }
 },
 "nbformat": 4,
 "nbformat_minor": 2
}
